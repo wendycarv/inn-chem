{
 "cells": [
  {
   "cell_type": "code",
   "execution_count": 72,
   "metadata": {},
   "outputs": [],
   "source": [
    "import pandas as pd\n",
    "import selfies as sf\n",
    "import matplotlib.pyplot as plt\n",
    "from sklearn.metrics import mean_squared_error, r2_score\n",
    "from rdkit import Chem, DataStructs\n",
    "from rdkit.Chem import AllChem\n",
    "from collections import Counter\n",
    "import seaborn as sns\n",
    "import torch\n",
    "from torch.utils.data import Dataset\n",
    "import torch.nn as nn\n",
    "from tensorflow.keras.preprocessing.sequence import pad_sequences\n",
    "from torch.utils.data import Dataset, DataLoader\n",
    "from sklearn.model_selection import train_test_split\n",
    "import csv\n",
    "import selfies as sf\n",
    "from collections import Counter\n",
    "import torch.nn as nn\n",
    "import csv\n",
    "import os\n",
    "import pandas as pd\n",
    "from cddd.inference import InferenceModel\n",
    "from cddd.preprocessing import preprocess_smiles\n",
    "from scipy.ndimage import gaussian_filter"
   ]
  },
  {
   "cell_type": "code",
   "execution_count": 2,
   "metadata": {},
   "outputs": [
    {
     "name": "stdout",
     "output_type": "stream",
     "text": [
      "WARNING:tensorflow:From example/run_qsar_test.py:94: The name tf.app.run is deprecated. Please use tf.compat.v1.app.run instead.\n",
      "\n",
      "WARNING:tensorflow:\n",
      "The TensorFlow contrib module will not be included in TensorFlow 2.0.\n",
      "For more information, please see:\n",
      "  * https://github.com/tensorflow/community/blob/master/rfcs/20180907-contrib-sunset.md\n",
      "  * https://github.com/tensorflow/addons\n",
      "  * https://github.com/tensorflow/io (for I/O related ops)\n",
      "If you depend on functionality not listed there, please file an issue.\n",
      "\n",
      "W0613 06:16:56.941381 139179644823040 lazy_loader.py:50] \n",
      "The TensorFlow contrib module will not be included in TensorFlow 2.0.\n",
      "For more information, please see:\n",
      "  * https://github.com/tensorflow/community/blob/master/rfcs/20180907-contrib-sunset.md\n",
      "  * https://github.com/tensorflow/addons\n",
      "  * https://github.com/tensorflow/io (for I/O related ops)\n",
      "If you depend on functionality not listed there, please file an issue.\n",
      "\n",
      "Traceback (most recent call last):\n",
      "  File \"example/run_qsar_test.py\", line 94, in <module>\n",
      "    tf.app.run(main=main, argv=[sys.argv[0]] + UNPARSED)\n",
      "  File \"/home/undergrad/2026/melkoudi/miniconda3/envs/tf110/lib/python3.6/site-packages/tensorflow_core/python/platform/app.py\", line 40, in run\n",
      "    _run(main=main, argv=argv, flags_parser=_parse_flags_tolerate_undef)\n",
      "  File \"/home/undergrad/2026/melkoudi/miniconda3/envs/tf110/lib/python3.6/site-packages/absl/app.py\", line 308, in run\n",
      "    _run_main(main, args)\n",
      "  File \"/home/undergrad/2026/melkoudi/miniconda3/envs/tf110/lib/python3.6/site-packages/absl/app.py\", line 254, in _run_main\n",
      "    sys.exit(main(argv))\n",
      "  File \"example/run_qsar_test.py\", line 51, in main\n",
      "    infer_model = InferenceModel(model_dir, use_gpu=FLAGS.gpu, cpu_threads=FLAGS.cpu_threads)\n",
      "  File \"/home/undergrad/2026/melkoudi/miniconda3/envs/tf110/lib/python3.6/site-packages/cddd/inference.py\", line 102, in __init__\n",
      "    self.hparams = create_hparams(flags)\n",
      "  File \"/home/undergrad/2026/melkoudi/miniconda3/envs/tf110/lib/python3.6/site-packages/cddd/hyperparameters.py\", line 119, in create_hparams\n",
      "    hparams = hparams.parse_json(json.load(open(hparams_file_name)))\n",
      "FileNotFoundError: [Errno 2] No such file or directory: 'cddd/pretrained_models/default_model/hparams.json'\n"
     ]
    }
   ],
   "source": [
    "!python3 example/run_qsar_test.py --model_dir cddd/pretrained_models/default_model"
   ]
  },
  {
   "cell_type": "code",
   "execution_count": 3,
   "metadata": {},
   "outputs": [
    {
     "name": "stdout",
     "output_type": "stream",
     "text": [
      "WARNING:tensorflow:From /home/undergrad/2026/melkoudi/miniconda3/envs/tf110/lib/python3.6/site-packages/cddd/run_cddd.py:99: The name tf.app.run is deprecated. Please use tf.compat.v1.app.run instead.\n",
      "\n",
      "/home/undergrad/2026/melkoudi/miniconda3/envs/tf110/lib/python3.6/site-packages/cddd/run_cddd.py:55: FutureWarning: read_table is deprecated, use read_csv instead, passing sep='\\t'.\n",
      "  sml_df = pd.read_table(file, header=None).rename({0:FLAGS.smiles_header, 1:\"EXTREG\"},\n",
      "Traceback (most recent call last):\n",
      "  File \"/home/undergrad/2026/melkoudi/miniconda3/envs/tf110/bin/cddd\", line 8, in <module>\n",
      "    sys.exit(main_wrapper())\n",
      "  File \"/home/undergrad/2026/melkoudi/miniconda3/envs/tf110/lib/python3.6/site-packages/cddd/run_cddd.py\", line 99, in main_wrapper\n",
      "    tf.app.run(main=main, argv=[sys.argv[0]] + UNPARSED)\n",
      "  File \"/home/undergrad/2026/melkoudi/miniconda3/envs/tf110/lib/python3.6/site-packages/tensorflow_core/python/platform/app.py\", line 40, in run\n",
      "    _run(main=main, argv=argv, flags_parser=_parse_flags_tolerate_undef)\n",
      "  File \"/home/undergrad/2026/melkoudi/miniconda3/envs/tf110/lib/python3.6/site-packages/absl/app.py\", line 308, in run\n",
      "    _run_main(main, args)\n",
      "  File \"/home/undergrad/2026/melkoudi/miniconda3/envs/tf110/lib/python3.6/site-packages/absl/app.py\", line 254, in _run_main\n",
      "    sys.exit(main(argv))\n",
      "  File \"/home/undergrad/2026/melkoudi/miniconda3/envs/tf110/lib/python3.6/site-packages/cddd/run_cddd.py\", line 67, in main\n",
      "    df = read_input(file)\n",
      "  File \"/home/undergrad/2026/melkoudi/miniconda3/envs/tf110/lib/python3.6/site-packages/cddd/run_cddd.py\", line 55, in read_input\n",
      "    sml_df = pd.read_table(file, header=None).rename({0:FLAGS.smiles_header, 1:\"EXTREG\"},\n",
      "  File \"/home/undergrad/2026/melkoudi/miniconda3/envs/tf110/lib/python3.6/site-packages/pandas/io/parsers.py\", line 702, in parser_f\n",
      "    return _read(filepath_or_buffer, kwds)\n",
      "  File \"/home/undergrad/2026/melkoudi/miniconda3/envs/tf110/lib/python3.6/site-packages/pandas/io/parsers.py\", line 429, in _read\n",
      "    parser = TextFileReader(filepath_or_buffer, **kwds)\n",
      "  File \"/home/undergrad/2026/melkoudi/miniconda3/envs/tf110/lib/python3.6/site-packages/pandas/io/parsers.py\", line 895, in __init__\n",
      "    self._make_engine(self.engine)\n",
      "  File \"/home/undergrad/2026/melkoudi/miniconda3/envs/tf110/lib/python3.6/site-packages/pandas/io/parsers.py\", line 1122, in _make_engine\n",
      "    self._engine = CParserWrapper(self.f, **self.options)\n",
      "  File \"/home/undergrad/2026/melkoudi/miniconda3/envs/tf110/lib/python3.6/site-packages/pandas/io/parsers.py\", line 1853, in __init__\n",
      "    self._reader = parsers.TextReader(src, **kwds)\n",
      "  File \"pandas/_libs/parsers.pyx\", line 387, in pandas._libs.parsers.TextReader.__cinit__\n",
      "  File \"pandas/_libs/parsers.pyx\", line 705, in pandas._libs.parsers.TextReader._setup_parser_source\n",
      "FileNotFoundError: [Errno 2] File b'smiles.smi' does not exist: b'smiles.smi'\n"
     ]
    }
   ],
   "source": [
    "!cddd --input smiles.smi --output descriptors.csv  --smiles_header smiles"
   ]
  },
  {
   "cell_type": "markdown",
   "metadata": {},
   "source": [
    "# Smiles Embedding:\n",
    "### Use cddd to encode smiles (yippeeee)"
   ]
  },
  {
   "cell_type": "code",
   "execution_count": 11,
   "metadata": {},
   "outputs": [
    {
     "name": "stdout",
     "output_type": "stream",
     "text": [
      "INFO:tensorflow:Restoring parameters from cddd/data/default_model/model.ckpt\n",
      "SMILES: CN(c1ccc(NC(=O)Nc2ccccc2)cc1)S(=O)(=O)c1ccc(-c2ccn(CCO)n2)s1\n",
      "Embedding: [-0.6485799  -0.4820745  -0.29993665  0.2840209  -0.19669785  0.23079348\n",
      " -0.45663777 -0.50177956 -0.06138841  0.28148285]...\n",
      "\n",
      "SMILES: CC(O)CC(C)C#COC#CC(C)CC(C)O\n",
      "Embedding: [-0.23311913 -0.62234724 -0.14250664  0.38820195  0.27778637 -0.15076475\n",
      "  0.01024481 -0.58167255 -0.23104398 -0.5806556 ]...\n",
      "\n",
      "SMILES: Cc1cc([N+](=O)[O-])ccc1NC(=O)c1ccc(OCC(C)C)c(Br)c1\n",
      "Embedding: [-0.47915938 -0.5277588   0.254828   -0.35512787 -0.01809985  0.02691496\n",
      " -0.17222045 -0.12126444  0.45158276  0.21312533]...\n",
      "\n",
      "SMILES: COC12C(COC(N)=O)C3=C(C(=O)C(C)=C(N)C3=O)N1CC1NC12\n",
      "Embedding: [ 0.95607096 -0.4094612   0.5092193   0.33736256  0.11703882  0.35932195\n",
      "  0.7206423  -0.6761475  -0.16922899  0.69493043]...\n",
      "\n",
      "SMILES: CC(C)(O)C(NC(=O)c1cnn2cc(C3CC3)cnc12)c1ccc(OC(F)(F)F)c(F)c1\n",
      "Embedding: [-0.8880903   0.08556144  0.20473011  0.1794778   0.02583974 -0.44063422\n",
      "  0.29907465  0.09121753 -0.60350114 -0.2038508 ]...\n",
      "\n"
     ]
    }
   ],
   "source": [
    "# create a smiles list of 6000\n",
    "smiles_list = []\n",
    "\n",
    "with open(\"computed_spectra.csv\", \"r\") as f:\n",
    "    reader = csv.reader(f)\n",
    "    next(reader)  # skip header line\n",
    "    for i, row in enumerate(reader):\n",
    "        if i >= 6000:\n",
    "            break\n",
    "        smiles = row[0].strip()\n",
    "        try:\n",
    "            smiles_list.append(smiles)\n",
    "        except:\n",
    "            continue\n",
    "\n",
    "# make instance of autoencoder model\n",
    "inference_model = InferenceModel(model_dir=\"cddd/data/default_model\")\n",
    "\n",
    "# embed the smiles\n",
    "smiles_embedding = inference_model.seq_to_emb(smiles_list)\n",
    "\n",
    "# print example to see if it works\n",
    "for i in range(5):\n",
    "    print(f\"SMILES: {smiles_list[i]}\") # full smiles\n",
    "    print(f\"Embedding: {smiles_embedding[i][:10]}...\\n\")  # print first 10 values of the embedding\n",
    "\n"
   ]
  },
  {
   "cell_type": "markdown",
   "metadata": {},
   "source": [
    "# Normalize & Smooth Spectra"
   ]
  },
  {
   "cell_type": "code",
   "execution_count": 13,
   "metadata": {},
   "outputs": [
    {
     "name": "stdout",
     "output_type": "stream",
     "text": [
      "Normalized spectra shape: (3568, 1801)\n",
      "Sample normalized spectrum: [0.10808033 0.10908509 0.1097319  0.11094673 0.11241841 0.11278684\n",
      " 0.11332587 0.11278429 0.11410056 0.11418134]\n",
      "Smoothed spectra shape: (3568, 1801)\n",
      "Example smoothed spectrum: [0.10755056 0.10928005 0.11052331 0.11138647 0.11197562 0.11239689\n",
      " 0.11275636 0.11316016 0.11389765 0.11500437]\n"
     ]
    }
   ],
   "source": [
    "import numpy as np\n",
    "from scipy.signal import savgol_filter\n",
    "from sklearn.preprocessing import MinMaxScaler\n",
    "\n",
    "\n",
    "spec_len = 1801 \n",
    "spectra_list = []\n",
    "\n",
    "with open(\"computed_spectra.csv\", \"r\") as f:\n",
    "    reader = csv.reader(f)\n",
    "    next(reader)\n",
    "    for i, row in enumerate(reader):\n",
    "        if i >= 6000:\n",
    "            break\n",
    "        try:\n",
    "            spectrum = [float(x) for x in row[1:]]\n",
    "            if len(spectrum) == spec_len:\n",
    "                spectra_list.append(spectrum)\n",
    "        except:\n",
    "            continue\n",
    "\n",
    "\n",
    "# conver to np array\n",
    "spectra_array = np.array(spectra_list)\n",
    "\n",
    "# normalize\n",
    "scaler = MinMaxScaler()\n",
    "normalized_spectra = scaler.fit_transform(spectra_array)\n",
    "\n",
    "# check if normalization worked \n",
    "print(\"Normalized spectra shape:\", normalized_spectra.shape)\n",
    "print(\"Sample normalized spectrum:\", normalized_spectra[0][:10])\n",
    "\n",
    "# Smooth each spectrum\n",
    "smoothed_spectra = [savgol_filter(spectrum, window_length=15, polyorder=3) for spectrum in normalized_spectra]\n",
    "\n",
    "# covert back to np array\n",
    "smoothed_spectra = np.array(smoothed_spectra)\n",
    "Y = smoothed_spectra \n",
    "\n",
    "# check if smoothing worked\n",
    "print(\"Smoothed spectra shape:\", smoothed_spectra.shape)\n",
    "print(\"Example smoothed spectrum:\", smoothed_spectra[0][:10])\n"
   ]
  },
  {
   "cell_type": "markdown",
   "metadata": {},
   "source": [
    "# Pad Smiles"
   ]
  },
  {
   "cell_type": "code",
   "execution_count": 49,
   "metadata": {},
   "outputs": [],
   "source": [
    "\"\"\"def pad_embeddings(embeddings, target_dim=1802):\n",
    "    current_dim = embeddings.shape[1]\n",
    "    if current_dim >= target_dim:\n",
    "        return embeddings[:, :target_dim]  # truncate if too long\n",
    "    padding = np.ones((embeddings.shape[0], target_dim - current_dim*2))*2\n",
    "    return np.concatenate([embeddings, padding, embeddings], axis=1)\n",
    "\n",
    "X_padded = pad_embeddings(smiles_embedding, target_dim=1802)  # shape (6000, 1801)\n",
    "\"\"\"\n",
    "\n",
    "\"\"\"def pad_to_even_dim(arr, target_dim=1802):\n",
    "    if arr.shape[1] < target_dim:\n",
    "        padding = np.ones((arr.shape[0], target_dim - arr.shape[1]))\n",
    "        return np.concatenate([arr, padding], axis=1)\n",
    "    else:\n",
    "        return arr[:, :target_dim]\"\"\"\n",
    "\n",
    "import numpy as np\n",
    "\"\"\"\n",
    "def pad_embeddings(embeddings, target_dim=1802):\n",
    "    \n",
    "    Pads embeddings by placing a zero-filled gap between two copies of the embeddings.\n",
    "    Final shape: [embeddings | zeros | embeddings]\n",
    "    \n",
    "    current_dim = embeddings.shape[1]\n",
    "    if 2 * current_dim > target_dim:\n",
    "        raise ValueError(f\"Embedding dimension too large for target_dim. Got {current_dim}, expected ≤ {target_dim//2}\")\n",
    "    \n",
    "    gap_dim = target_dim - 2 * current_dim\n",
    "    zeros = np.ones((embeddings.shape[0], gap_dim))\n",
    "    return np.concatenate([embeddings, zeros, embeddings], axis=1)\n",
    "    \"\"\"\n",
    "\n",
    "def pad_embeddings(embeddings, target_dim=1802):\n",
    "    current_dim = embeddings.shape[1]\n",
    "    if 2 * current_dim > target_dim:\n",
    "        raise ValueError(f\"Embedding dimension too large for target_dim. Got {current_dim}, expected ≤ {target_dim//2}\")\n",
    "    \n",
    "    gap_dim = target_dim - 2 * current_dim\n",
    "    zeros = np.zeros((embeddings.shape[0], gap_dim))  # ✅ use zeros\n",
    "    return np.concatenate([embeddings, zeros, embeddings], axis=1)\n"
   ]
  },
  {
   "cell_type": "code",
   "execution_count": 71,
   "metadata": {},
   "outputs": [],
   "source": []
  },
  {
   "cell_type": "markdown",
   "metadata": {},
   "source": [
    "# Split into train & test sets :)"
   ]
  },
  {
   "cell_type": "code",
   "execution_count": 50,
   "metadata": {},
   "outputs": [
    {
     "name": "stdout",
     "output_type": "stream",
     "text": [
      "Z_train shape: (2854, 3603)\n",
      "Z_test shape: (714, 3603)\n"
     ]
    }
   ],
   "source": [
    "from sklearn.model_selection import train_test_split\n",
    "\n",
    "# Make sure X and Y have the same number of samples\n",
    "min_len = min(len(X_padded), len(Y))\n",
    "X_padded = X_padded[:min_len]\n",
    "Y = Y[:min_len]\n",
    "\n",
    "# Train/test split\n",
    "X_train, X_test, Y_train, Y_test = train_test_split(X_padded, Y, test_size=0.2, random_state=42)\n",
    "\n",
    "# Combine for INN input\n",
    "Z_train = np.concatenate([X_train, Y_train], axis=1)\n",
    "Z_test = np.concatenate([X_test, Y_test], axis=1)\n",
    "\n",
    "print(\"Z_train shape:\", Z_train.shape)\n",
    "print(\"Z_test shape:\", Z_test.shape)\n"
   ]
  },
  {
   "cell_type": "markdown",
   "metadata": {},
   "source": [
    "# Dataset:"
   ]
  },
  {
   "cell_type": "code",
   "execution_count": 51,
   "metadata": {},
   "outputs": [],
   "source": [
    "from torch.utils.data import Dataset, DataLoader\n",
    "import torch\n",
    "\n",
    "class SmilesSpectraDataset(Dataset):\n",
    "    def __init__(self, data):\n",
    "        self.data = torch.tensor(data, dtype=torch.float32)\n",
    "    def __len__(self):\n",
    "        return len(self.data)\n",
    "    def __getitem__(self, idx):\n",
    "        return self.data[idx]\n",
    "\n",
    "# DataLoaders\n",
    "train_loader = DataLoader(SmilesSpectraDataset(Z_train), batch_size=64, shuffle=True)\n",
    "test_loader = DataLoader(SmilesSpectraDataset(Z_test), batch_size=64)"
   ]
  },
  {
   "cell_type": "code",
   "execution_count": 21,
   "metadata": {},
   "outputs": [
    {
     "name": "stdout",
     "output_type": "stream",
     "text": [
      "torch.Size([1, 1802])\n",
      "tensor([[2., 2., 2., 2., 2., 2., 2., 2., 2., 2., 2., 2., 2., 2., 2., 2., 2., 2.,\n",
      "         2., 2., 2., 2., 2., 2., 2., 2., 2., 2., 2., 2., 2., 2., 2., 2., 2., 2.,\n",
      "         2., 2., 2., 2., 2., 2., 2., 2., 2., 2., 2., 2., 2., 2., 2., 2., 2., 2.,\n",
      "         2., 2., 2., 2., 2., 2., 2., 2., 2., 2., 2., 2., 2., 2., 2., 2., 2., 2.,\n",
      "         2., 2., 2., 2., 2., 2., 2., 2., 2., 2., 2., 2., 2., 2., 2., 2., 2., 2.,\n",
      "         2., 2., 2., 2., 2., 2., 2., 2., 2., 2., 2., 2., 2., 2., 2., 2., 2., 2.,\n",
      "         2., 2., 2., 2., 2., 2., 2., 2., 2., 2., 2., 2., 2., 2., 2., 2., 2., 2.,\n",
      "         2., 2., 2., 2., 2., 2., 2., 2., 2., 2., 2., 2., 2., 2., 2., 2., 2., 2.,\n",
      "         2., 2., 2., 2., 2., 2., 2., 2., 2., 2., 2., 2., 2., 2., 2., 2., 2., 2.,\n",
      "         2., 2., 2., 2., 2., 2., 2., 2., 2., 2., 2., 2., 2., 2., 2., 2., 2., 2.,\n",
      "         2., 2., 2., 2., 2., 2., 2., 2., 2., 2., 2., 2., 2., 2., 2., 2., 2., 2.,\n",
      "         2., 2., 2., 2., 2., 2., 2., 2., 2., 2., 2., 2., 2., 2., 2., 2., 2., 2.,\n",
      "         2., 2., 2., 2., 2., 2., 2., 2., 2., 2., 2., 2., 2., 2., 2., 2., 2., 2.,\n",
      "         2., 2., 2., 2., 2., 2., 2., 2., 2., 2., 2., 2., 2., 2., 2., 2., 2., 2.,\n",
      "         2., 2., 2., 2., 2., 2., 2., 2., 2., 2., 2., 2., 2., 2., 2., 2., 2., 2.,\n",
      "         2., 2., 2., 2., 2., 2., 2., 2., 2., 2., 2., 2., 2., 2., 2., 2., 2., 2.,\n",
      "         2., 2., 2., 2., 2., 2., 2., 2., 2., 2., 2., 2., 2., 2., 2., 2., 2., 2.,\n",
      "         2., 2., 2., 2., 2., 2., 2., 2., 2., 2., 2., 2., 2., 2., 2., 2., 2., 2.,\n",
      "         2., 2., 2., 2., 2., 2., 2., 2., 2., 2., 2., 2., 2., 2., 2., 2., 2., 2.,\n",
      "         2., 2., 2., 2., 2., 2., 2., 2., 2., 2., 2., 2., 2., 2., 2., 2., 2., 2.,\n",
      "         2., 2., 2., 2., 2., 2., 2., 2., 2., 2., 2., 2., 2., 2., 2., 2., 2., 2.,\n",
      "         2., 2., 2., 2., 2., 2., 2., 2., 2., 2., 2., 2., 2., 2., 2., 2., 2., 2.,\n",
      "         2., 2., 2., 2., 2., 2., 2., 2., 2., 2., 2., 2., 2., 2., 2., 2., 2., 2.,\n",
      "         2., 2., 2., 2., 2., 2., 2., 2., 2., 2., 2., 2., 2., 2., 2., 2., 2., 2.,\n",
      "         2., 2., 2., 2., 2., 2., 2., 2., 2., 2., 2., 2., 2., 2., 2., 2., 2., 2.,\n",
      "         2., 2., 2., 2., 2., 2., 2., 2., 2., 2., 2., 2., 2., 2., 2., 2., 2., 2.,\n",
      "         2., 2., 2., 2., 2., 2., 2., 2., 2., 2., 2., 2., 2., 2., 2., 2., 2., 2.,\n",
      "         2., 2., 2., 2., 2., 2., 2., 2., 2., 2., 2., 2., 2., 2., 2., 2., 2., 2.,\n",
      "         2., 2., 2., 2., 2., 2., 2., 2.]])\n"
     ]
    },
    {
     "ename": "NameError",
     "evalue": "name 'model' is not defined",
     "output_type": "error",
     "traceback": [
      "\u001b[0;31m------------------------------------------------------\u001b[0m",
      "\u001b[0;31mNameError\u001b[0m            Traceback (most recent call last)",
      "\u001b[0;32m<ipython-input-21-05047d198d5c>\u001b[0m in \u001b[0;36m<module>\u001b[0;34m\u001b[0m\n\u001b[1;32m      3\u001b[0m \u001b[0msample2\u001b[0m \u001b[0;34m=\u001b[0m \u001b[0mtorch\u001b[0m\u001b[0;34m.\u001b[0m\u001b[0mrand\u001b[0m\u001b[0;34m(\u001b[0m\u001b[0;34m(\u001b[0m\u001b[0;36m32\u001b[0m\u001b[0;34m,\u001b[0m \u001b[0;36m1802\u001b[0m\u001b[0;34m)\u001b[0m\u001b[0;34m)\u001b[0m\u001b[0;34m\u001b[0m\u001b[0;34m\u001b[0m\u001b[0m\n\u001b[1;32m      4\u001b[0m \u001b[0mprint\u001b[0m\u001b[0;34m(\u001b[0m\u001b[0msample\u001b[0m\u001b[0;34m[\u001b[0m\u001b[0;34m:\u001b[0m\u001b[0;34m,\u001b[0m\u001b[0;36m512\u001b[0m\u001b[0;34m:\u001b[0m\u001b[0;36m1024\u001b[0m\u001b[0;34m]\u001b[0m\u001b[0;34m)\u001b[0m\u001b[0;34m\u001b[0m\u001b[0;34m\u001b[0m\u001b[0m\n\u001b[0;32m----> 5\u001b[0;31m \u001b[0mmodel\u001b[0m\u001b[0;34m(\u001b[0m\u001b[0msample2\u001b[0m\u001b[0;34m)\u001b[0m\u001b[0;34m\u001b[0m\u001b[0;34m\u001b[0m\u001b[0m\n\u001b[0m\u001b[1;32m      6\u001b[0m \u001b[0;34m\u001b[0m\u001b[0m\n",
      "\u001b[0;31mNameError\u001b[0m: name 'model' is not defined"
     ]
    }
   ],
   "source": [
    "sample = torch.tensor(Z_train[0][:1802], dtype=torch.float32).reshape((-1, 1802))\n",
    "print(sample.shape)\n",
    "sample2 = torch.rand((32, 1802))\n",
    "print(sample[:,512:1024])\n",
    "model(sample2)\n",
    "\n"
   ]
  },
  {
   "cell_type": "code",
   "execution_count": 52,
   "metadata": {},
   "outputs": [],
   "source": [
    "class SIDLoss(nn.Module):\n",
    "    def __init__(self, eps=1e-8):\n",
    "        super().__init__()\n",
    "        self.eps = eps\n",
    "\n",
    "    def forward(self, model_spectra, target_spectra):\n",
    "        model_spectra = torch.clamp(model_spectra, min=self.eps)\n",
    "        target_spectra = torch.clamp(target_spectra, min=self.eps)\n",
    "\n",
    "        term1 = model_spectra * torch.log(model_spectra / target_spectra)\n",
    "        term2 = target_spectra * torch.log(target_spectra / model_spectra)\n",
    "        loss = term1 + term2\n",
    "        return loss.sum(dim=1).mean()"
   ]
  },
  {
   "cell_type": "code",
   "execution_count": 23,
   "metadata": {},
   "outputs": [
    {
     "ename": "NameError",
     "evalue": "name 'optimizer' is not defined",
     "output_type": "error",
     "traceback": [
      "\u001b[0;31m------------------------------------------------------\u001b[0m",
      "\u001b[0;31mNameError\u001b[0m            Traceback (most recent call last)",
      "\u001b[0;32m<ipython-input-23-b67e67c35310>\u001b[0m in \u001b[0;36m<module>\u001b[0;34m\u001b[0m\n\u001b[1;32m      3\u001b[0m \u001b[0mx_batch\u001b[0m \u001b[0;34m=\u001b[0m \u001b[0mbatch\u001b[0m\u001b[0;34m[\u001b[0m\u001b[0;34m:\u001b[0m\u001b[0;34m,\u001b[0m \u001b[0;34m:\u001b[0m\u001b[0;36m1802\u001b[0m\u001b[0;34m]\u001b[0m\u001b[0;34m\u001b[0m\u001b[0;34m\u001b[0m\u001b[0m\n\u001b[1;32m      4\u001b[0m \u001b[0my_batch\u001b[0m \u001b[0;34m=\u001b[0m \u001b[0mbatch\u001b[0m\u001b[0;34m[\u001b[0m\u001b[0;34m:\u001b[0m\u001b[0;34m,\u001b[0m \u001b[0;36m1802\u001b[0m\u001b[0;34m:\u001b[0m\u001b[0;34m]\u001b[0m\u001b[0;34m\u001b[0m\u001b[0;34m\u001b[0m\u001b[0m\n\u001b[0;32m----> 5\u001b[0;31m \u001b[0moptimizer\u001b[0m\u001b[0;34m.\u001b[0m\u001b[0mzero_grad\u001b[0m\u001b[0;34m(\u001b[0m\u001b[0;34m)\u001b[0m\u001b[0;34m\u001b[0m\u001b[0;34m\u001b[0m\u001b[0m\n\u001b[0m\u001b[1;32m      6\u001b[0m \u001b[0my_pred\u001b[0m \u001b[0;34m=\u001b[0m \u001b[0mmodel\u001b[0m\u001b[0;34m(\u001b[0m\u001b[0mx_batch\u001b[0m\u001b[0;34m)\u001b[0m\u001b[0;34m\u001b[0m\u001b[0;34m\u001b[0m\u001b[0m\n\u001b[1;32m      7\u001b[0m \u001b[0mprint\u001b[0m\u001b[0;34m(\u001b[0m\u001b[0my_pred\u001b[0m\u001b[0;34m[\u001b[0m\u001b[0;34m:\u001b[0m\u001b[0;34m,\u001b[0m \u001b[0;36m900\u001b[0m\u001b[0;34m:\u001b[0m\u001b[0;34m]\u001b[0m\u001b[0;34m)\u001b[0m\u001b[0;34m\u001b[0m\u001b[0;34m\u001b[0m\u001b[0m\n",
      "\u001b[0;31mNameError\u001b[0m: name 'optimizer' is not defined"
     ]
    }
   ],
   "source": [
    "\n",
    "    for batch in train_loader:\n",
    "        break\n",
    "    x_batch = batch[:, :1802]\n",
    "    y_batch = batch[:, 1802:]\n",
    "    optimizer.zero_grad()\n",
    "    y_pred = model(x_batch)\n",
    "    print(y_pred[:, 900:])"
   ]
  },
  {
   "cell_type": "markdown",
   "metadata": {},
   "source": [
    "# INN Model: (RealNVP)"
   ]
  },
  {
   "cell_type": "code",
   "execution_count": 42,
   "metadata": {},
   "outputs": [],
   "source": [
    "class CouplingLayer(nn.Module):\n",
    "    def __init__(self, dim):\n",
    "        super().__init__()\n",
    "        hidden = 512\n",
    "        self.scale = nn.Sequential(\n",
    "         nn.Linear(dim // 2, hidden),\n",
    "        nn.ReLU(),\n",
    "        nn.Dropout(0.2),\n",
    "        nn.Linear(hidden, dim // 2),\n",
    "        nn.Tanh()  # keeps scale factor in range (-1, 1)\n",
    "        )       \n",
    "\n",
    "        self.translate = nn.Sequential(\n",
    "            nn.Linear(dim // 2, hidden),\n",
    "            nn.ReLU(),\n",
    "            nn.Linear(hidden, dim // 2),\n",
    "            nn.ReLU()\n",
    "        )\n",
    "    def forward(self, x, reverse=False):\n",
    "        x1, x2 = x.chunk(2, dim=1)\n",
    "        s, t = self.scale(x1), self.translate(x1)\n",
    "        y2 = x2 * torch.exp(s) + t if not reverse else (x2 - t) * torch.exp(-s)\n",
    "        return torch.cat([x1, y2], dim=1)\n",
    "\n",
    "class RealNVP(nn.Module):\n",
    "    def __init__(self, dim, num_layers=3):\n",
    "        super().__init__()\n",
    "        self.layers = nn.ModuleList([CouplingLayer(dim) for _ in range(num_layers)])\n",
    "    def forward(self, x, reverse=False):\n",
    "        for layer in (self.layers if not reverse else reversed(self.layers)):\n",
    "            x = layer(x, reverse=reverse)\n",
    "        return x\n",
    "\n",
    "class RealNVPWithProjection(nn.Module):\n",
    "    def __init__(self, dim, output_dim=1801, num_layers=3):\n",
    "        super().__init__()\n",
    "        self.flow = RealNVP(dim, num_layers)\n",
    "        self.project = nn.Sequential(\n",
    "            nn.Linear(dim, output_dim),\n",
    "            nn.Tanh()  # ✅ squash values between -1 and 1\n",
    "        )\n",
    "\n",
    "    def forward(self, x, reverse=False):\n",
    "        x = self.flow(x, reverse=reverse)\n",
    "        if not reverse:\n",
    "            x = self.project(x)\n",
    "        return x\n",
    "\n"
   ]
  },
  {
   "cell_type": "markdown",
   "metadata": {},
   "source": [
    "# Training Loop"
   ]
  },
  {
   "cell_type": "code",
   "execution_count": 60,
   "metadata": {},
   "outputs": [
    {
     "name": "stdout",
     "output_type": "stream",
     "text": [
      "Epoch 1: Train Loss = 11.0708, Test Loss = 0.2835\n",
      "Epoch 2: Train Loss = 0.9304, Test Loss = 0.2016\n",
      "Epoch 3: Train Loss = 0.7054, Test Loss = 0.1685\n",
      "Epoch 4: Train Loss = 0.5879, Test Loss = 0.1462\n",
      "Epoch 5: Train Loss = 0.5101, Test Loss = 0.1304\n",
      "Epoch 6: Train Loss = 0.4520, Test Loss = 0.1180\n",
      "Epoch 7: Train Loss = 0.4079, Test Loss = 0.1087\n",
      "Epoch 8: Train Loss = 0.3732, Test Loss = 0.1009\n",
      "Epoch 9: Train Loss = 0.3454, Test Loss = 0.0946\n",
      "Epoch 10: Train Loss = 0.3219, Test Loss = 0.0897\n",
      "Epoch 11: Train Loss = 0.3044, Test Loss = 0.0853\n",
      "Epoch 12: Train Loss = 0.2876, Test Loss = 0.0817\n",
      "Epoch 13: Train Loss = 0.2750, Test Loss = 0.0788\n",
      "Epoch 14: Train Loss = 0.2636, Test Loss = 0.0763\n",
      "Epoch 15: Train Loss = 0.2547, Test Loss = 0.0738\n",
      "Epoch 16: Train Loss = 0.2461, Test Loss = 0.0720\n",
      "Epoch 17: Train Loss = 0.2380, Test Loss = 0.0701\n",
      "Epoch 18: Train Loss = 0.2314, Test Loss = 0.0687\n",
      "Epoch 19: Train Loss = 0.2263, Test Loss = 0.0673\n",
      "Epoch 20: Train Loss = 0.2211, Test Loss = 0.0665\n"
     ]
    }
   ],
   "source": [
    "input_dim = 1802\n",
    "model = RealNVPWithProjection(dim=1802, output_dim=1801, num_layers=10)\n",
    "optimizer = torch.optim.Adam(model.parameters(), lr=1e-4)\n",
    "loss_fn = nn.MSELoss()\n",
    "\n",
    "train_losses = []\n",
    "test_losses = []\n",
    "\n",
    "for epoch in range(20):\n",
    "    model.train()\n",
    "    total_loss = 0\n",
    "    for batch in train_loader:\n",
    "        x_batch = batch[:, :1802]\n",
    "        y_batch = batch[:, 1802:]\n",
    "        optimizer.zero_grad()\n",
    "        y_pred = model(x_batch)\n",
    "        #loss = loss_fn(y_pred[:, :1801], y_batch)\n",
    "        loss = loss_fn(y_pred, y_batch)\n",
    "        loss.backward()\n",
    "        optimizer.step()\n",
    "        total_loss += loss.item()\n",
    "    train_losses.append(total_loss)\n",
    "\n",
    "    model.eval()\n",
    "    with torch.no_grad():\n",
    "        test_loss = 0\n",
    "        for batch in test_loader:\n",
    "            x_batch = batch[:, :1802]\n",
    "            y_batch = batch[:, 1802:]\n",
    "            y_pred = model(x_batch)\n",
    "            test_loss += loss_fn(y_pred, y_batch).item()\n",
    "        test_losses.append(test_loss)\n",
    "\n",
    "    print(f\"Epoch {epoch+1}: Train Loss = {total_loss:.4f}, Test Loss = {test_loss:.4f}\")\n"
   ]
  },
  {
   "cell_type": "code",
   "execution_count": 78,
   "metadata": {},
   "outputs": [],
   "source": [
    "input_dim = 1802\n",
    "model = RealNVP(dim=input_dim, num_layers=3)\n",
    "optimizer = torch.optim.Adam(model.parameters(), lr=1e-3)\n",
    "loss_fn = SIDLoss()"
   ]
  },
  {
   "cell_type": "code",
   "execution_count": 82,
   "metadata": {},
   "outputs": [
    {
     "data": {
      "text/plain": [
       "tensor([[2.6505e-05, 8.1909e-05, 6.1232e-05,  ..., 2.8554e-02, 3.7877e-02,\n",
       "         7.7821e-03],\n",
       "        [4.7800e-05, 3.7571e-05, 1.8801e-05,  ..., 2.8569e-02, 3.7874e-02,\n",
       "         7.7865e-03],\n",
       "        [2.5125e-05, 6.3787e-05, 4.0418e-05,  ..., 2.8524e-02, 3.7803e-02,\n",
       "         7.7103e-03],\n",
       "        ...,\n",
       "        [6.6687e-05, 5.6700e-05, 8.4251e-05,  ..., 2.8569e-02, 3.7921e-02,\n",
       "         7.7148e-03],\n",
       "        [9.0995e-05, 5.4451e-05, 9.9603e-05,  ..., 2.8514e-02, 3.8144e-02,\n",
       "         7.7443e-03],\n",
       "        [6.6049e-05, 2.5114e-05, 3.3071e-05,  ..., 2.8600e-02, 3.8140e-02,\n",
       "         7.7509e-03]], grad_fn=<CatBackward>)"
      ]
     },
     "execution_count": 82,
     "metadata": {},
     "output_type": "execute_result"
    }
   ],
   "source": [
    "s1 = torch.rand((32,1802))\n",
    "s1 = s1/10000\n",
    "model(s1)"
   ]
  },
  {
   "cell_type": "markdown",
   "metadata": {},
   "source": [
    "# Model Evaluation "
   ]
  },
  {
   "cell_type": "code",
   "execution_count": 61,
   "metadata": {},
   "outputs": [
    {
     "ename": "NameError",
     "evalue": "name 'val_losses' is not defined",
     "output_type": "error",
     "traceback": [
      "\u001b[0;31m---------------------------------------------------------------------------\u001b[0m",
      "\u001b[0;31mNameError\u001b[0m                                 Traceback (most recent call last)",
      "\u001b[0;32m<ipython-input-61-95d45d809349>\u001b[0m in \u001b[0;36m<module>\u001b[0;34m\u001b[0m\n\u001b[1;32m      2\u001b[0m \u001b[0;34m\u001b[0m\u001b[0m\n\u001b[1;32m      3\u001b[0m \u001b[0mplt\u001b[0m\u001b[0;34m.\u001b[0m\u001b[0mplot\u001b[0m\u001b[0;34m(\u001b[0m\u001b[0mtrain_losses\u001b[0m\u001b[0;34m,\u001b[0m \u001b[0mlabel\u001b[0m\u001b[0;34m=\u001b[0m\u001b[0;34m\"Train\"\u001b[0m\u001b[0;34m)\u001b[0m\u001b[0;34m\u001b[0m\u001b[0;34m\u001b[0m\u001b[0m\n\u001b[0;32m----> 4\u001b[0;31m \u001b[0mplt\u001b[0m\u001b[0;34m.\u001b[0m\u001b[0mplot\u001b[0m\u001b[0;34m(\u001b[0m\u001b[0mval_losses\u001b[0m\u001b[0;34m,\u001b[0m \u001b[0mlabel\u001b[0m\u001b[0;34m=\u001b[0m\u001b[0;34m\"Validation\"\u001b[0m\u001b[0;34m)\u001b[0m\u001b[0;34m\u001b[0m\u001b[0;34m\u001b[0m\u001b[0m\n\u001b[0m\u001b[1;32m      5\u001b[0m \u001b[0mplt\u001b[0m\u001b[0;34m.\u001b[0m\u001b[0mplot\u001b[0m\u001b[0;34m(\u001b[0m\u001b[0mtest_losses\u001b[0m\u001b[0;34m,\u001b[0m \u001b[0mlabel\u001b[0m\u001b[0;34m=\u001b[0m\u001b[0;34m\"Test\"\u001b[0m\u001b[0;34m)\u001b[0m\u001b[0;34m\u001b[0m\u001b[0;34m\u001b[0m\u001b[0m\n\u001b[1;32m      6\u001b[0m \u001b[0mplt\u001b[0m\u001b[0;34m.\u001b[0m\u001b[0mtitle\u001b[0m\u001b[0;34m(\u001b[0m\u001b[0;34m\"Loss Curves\"\u001b[0m\u001b[0;34m)\u001b[0m\u001b[0;34m\u001b[0m\u001b[0;34m\u001b[0m\u001b[0m\n",
      "\u001b[0;31mNameError\u001b[0m: name 'val_losses' is not defined"
     ]
    },
    {
     "data": {
      "image/png": "[encoded data removed]",
      "text/plain": [
       "<Figure size 432x288 with 1 Axes>"
      ]
     },
     "metadata": {
      "needs_background": "light"
     },
     "output_type": "display_data"
    }
   ],
   "source": [
    "import matplotlib.pyplot as plt\n",
    "\n",
    "plt.plot(train_losses, label=\"Train\")\n",
    "plt.plot(val_losses, label=\"Validation\")\n",
    "plt.plot(test_losses, label=\"Test\")\n",
    "plt.title(\"Loss Curves\")\n",
    "plt.xlabel(\"Epoch\")\n",
    "plt.ylabel(\"Loss\")\n",
    "plt.legend()\n",
    "plt.show()"
   ]
  },
  {
   "cell_type": "code",
   "execution_count": 75,
   "metadata": {},
   "outputs": [
    {
     "data": {
      "image/png": "[encoded data removed]",
      "text/plain": [
       "<Figure size 720x288 with 1 Axes>"
      ]
     },
     "metadata": {
      "needs_background": "light"
     },
     "output_type": "display_data"
    },
    {
     "data": {
      "image/png": "[encoded data removed]",
      "text/plain": [
       "<Figure size 864x288 with 1 Axes>"
      ]
     },
     "metadata": {
      "needs_background": "light"
     },
     "output_type": "display_data"
    }
   ],
   "source": [
    "# plot loss graph\n",
    "plt.figure(figsize=(10, 4))\n",
    "plt.plot(train_losses, label=\"Train Loss\")\n",
    "plt.plot(test_losses, label=\"Test Loss\")\n",
    "plt.xlabel(\"Epoch\")\n",
    "plt.ylabel(\"Loss\")\n",
    "plt.title(\"Training vs Test Loss\")\n",
    "plt.legend()\n",
    "plt.show()\n",
    "\n",
    "# plot predicted vs true spectrum\n",
    "model.eval()\n",
    "with torch.no_grad():\n",
    "    y_pred_test = model(torch.tensor(X_test, dtype=torch.float32)).numpy()\n",
    "\n",
    "y_pred_test = gaussian_filter(y_pred_test, sigma=5)\n",
    "\n",
    "idx = 21\n",
    "plt.figure(figsize=(12, 4))\n",
    "plt.plot(Y_test[idx], label=\"True Spectrum\")\n",
    "plt.plot(y_pred_test[idx], label=\"Predicted Spectrum\")\n",
    "plt.title(\"SMILES → Spectra Prediction\")\n",
    "plt.legend()\n",
    "plt.show()\n"
   ]
  }
 ],
 "metadata": {
  "kernelspec": {
   "display_name": "Python 3",
   "language": "python",
   "name": "python3"
  },
  "language_info": {
   "codemirror_mode": {
    "name": "ipython",
    "version": 3
   },
   "file_extension": ".py",
   "mimetype": "text/x-python",
   "name": "python",
   "nbconvert_exporter": "python",
   "pygments_lexer": "ipython3",
   "version": "3.6.13"
  }
 },
 "nbformat": 4,
 "nbformat_minor": 2
}
