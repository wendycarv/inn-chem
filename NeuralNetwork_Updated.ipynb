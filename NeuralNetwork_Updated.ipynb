{
 "cells": [
  {
   "cell_type": "code",
   "execution_count": null,
   "metadata": {},
   "outputs": [
    {
     "data": {
      "application/javascript": "\n    IPython.notebook.save_checkpoint();\n    setInterval(function() {\n        IPython.notebook.save_checkpoint();\n        console.log(\"Auto-saved notebook at \" + new Date().toLocaleTimeString());\n    }, 300000);\n",
      "text/plain": [
       "<IPython.core.display.Javascript object>"
      ]
     },
     "metadata": {},
     "output_type": "display_data"
    },
    {
     "ename": "",
     "evalue": "",
     "output_type": "error",
     "traceback": [
      "\u001b[1;31mCannot execute code, session has been disposed. Please try restarting the Kernel."
     ]
    },
    {
     "ename": "",
     "evalue": "",
     "output_type": "error",
     "traceback": [
      "\u001b[1;31mFailed to connect to the remote Jupyter Server 'http://localhost:8888/'. Verify the server is running and reachable."
     ]
    },
    {
     "ename": "",
     "evalue": "",
     "output_type": "error",
     "traceback": [
      "\u001b[1;31mCannot execute code, session has been disposed. Please try restarting the Kernel. \n",
      "\u001b[1;31mView Jupyter <a href='command:jupyter.viewOutput'>log</a> for further details."
     ]
    }
   ],
   "source": [
    "from IPython.display import display, Javascript\n",
    "\n",
    "# Auto-save every 5 minutes\n",
    "display(Javascript('''\n",
    "    IPython.notebook.save_checkpoint();\n",
    "    setInterval(function() {\n",
    "        IPython.notebook.save_checkpoint();\n",
    "        console.log(\"Auto-saved notebook at \" + new Date().toLocaleTimeString());\n",
    "    }, 300000);\n",
    "'''))"
   ]
  },
  {
   "cell_type": "code",
   "execution_count": null,
   "metadata": {},
   "outputs": [],
   "source": [
    "import selfies as sf\n",
    "import matplotlib.pyplot as plt\n",
    "from sklearn.metrics import mean_squared_error, r2_score\n",
    "from rdkit import Chem, DataStructs\n",
    "from rdkit.Chem import AllChem\n",
    "from collections import Counter\n",
    "import torch\n",
    "from torch.utils.data import Dataset\n",
    "import torch.nn as nn\n",
    "from tensorflow.keras.preprocessing.sequence import pad_sequences\n",
    "from torch.utils.data import Dataset, DataLoader\n",
    "from sklearn.model_selection import train_test_split\n",
    "import torch.nn as nn\n",
    "\n",
    "from cddd.inference import InferenceModel\n",
    "from cddd.preprocessing import preprocess_smiles\n",
    "from scipy.ndimage import gaussian_filter"
   ]
  },
  {
   "cell_type": "markdown",
   "metadata": {},
   "source": [
    "# Smiles to Embedding via cddd"
   ]
  },
  {
   "cell_type": "code",
   "execution_count": null,
   "metadata": {},
   "outputs": [
    {
     "name": "stdout",
     "output_type": "stream",
     "text": [
      "created model\n",
      "spectra_and_embeddings_full.csv already exists. loading data... \n",
      "spectra shape:  (85506, 1801)\n",
      "embedded smiles shape:  (85506, 512)\n"
     ]
    }
   ],
   "source": [
    "import os\n",
    "import csv\n",
    "import pandas as pd\n",
    "import numpy as np\n",
    "\n",
    "# import and preprocess dataset\n",
    "\n",
    "input_csv = \"computed_spectra.csv\"\n",
    "output_csv = \"spectra_and_embeddings_full.csv\"\n",
    "row_num = 0\n",
    "\n",
    "# create an instance of the model\n",
    "inference_model = InferenceModel()\n",
    "print(\"created model\")\n",
    "\n",
    "# skip preprocessing if file already exists\n",
    "if os.path.exists(output_csv):\n",
    "    print(f\"{output_csv} already exists. loading data... \")\n",
    "\n",
    "    df = pd.read_csv(output_csv)\n",
    "    smiles_list = df[\"smiles\"].tolist() # FIX\n",
    "\n",
    "    spectra_array = df.iloc[:, 1:1802].values   # spectra columns\n",
    "    embedded_smiles = df.iloc[:, 1802:].values  # embedded SMILES columns\n",
    "\n",
    "    print(\"spectra shape: \", spectra_array.shape)\n",
    "    print(\"embedded smiles shape: \", embedded_smiles.shape)\n",
    "\n",
    "else:\n",
    "    print(\"Processing raw SMILES and spectra...\")\n",
    "\n",
    "    smiles_list = []\n",
    "    spectra_list = []\n",
    "\n",
    "    with open(input_csv, \"r\") as f:\n",
    "        total_rows = sum(1 for _ in f) - 1  # minus 1 for header\n",
    "\n",
    "    with open(input_csv, \"r\") as f:\n",
    "        reader = csv.reader(f)\n",
    "        header = next(reader)  # e.g., [\"smiles\", \"spectrum_0\", ..., \"spectrum_1800\"]\n",
    "        for row in reader:\n",
    "            row_num += 1\n",
    "            if row_num % 1000 == 0:\n",
    "                print(f\"Processed {row_num}/{total_rows}\")\n",
    "            smiles = row[0].strip()\n",
    "            spectrum = [float(val) for val in row[1:]]\n",
    "            try:\n",
    "                smiles_list.append(smiles)\n",
    "                spectra_list.append(spectrum)\n",
    "            except:\n",
    "                continue\n",
    "\n",
    "    spectra_array = np.array(spectra_list)  # shape (N, 1801)\n",
    "\n",
    "\n",
    "    # encode all SMILES into the continuous embedding --> size 512\n",
    "    print(\"encoding SMILES...\")\n",
    "    embedded_smiles = inference_model.seq_to_emb(smiles_list)  # shape (N, 512)\n",
    "    print(\"embedding shape:\", embedded_smiles.shape)\n",
    "\n",
    "    # combine all data: smiles + spectra + embeddings\n",
    "    combined_array = np.hstack((np.array(smiles_list).reshape(-1, 1), spectra_array, embedded_smiles))\n",
    "\n",
    "    # create headers\n",
    "    spectra_headers = [f\"spectrum_{i}\" for i in range(spectra_array.shape[1])]\n",
    "    embed_headers = [f\"emb_{i}\" for i in range(embedded_smiles.shape[1])]\n",
    "    headers = [\"smiles\"] + spectra_headers + embed_headers\n",
    "\n",
    "    # create DataFrame and save\n",
    "    combined_df = pd.DataFrame(combined_array, columns=headers)\n",
    "    combined_df.to_csv(output_csv, index=False)\n",
    "    print(f\"saved new file: {output_csv}\")\n"
   ]
  },
  {
   "cell_type": "code",
   "execution_count": null,
   "metadata": {},
   "outputs": [
    {
     "data": {
      "text/plain": [
       "'\\n# create a smiles list of 6000\\nsmiles_list = []\\n\\nwith open(\"computed_spectra.csv\", \"r\") as f:\\n    reader = csv.reader(f)\\n    next(reader)  # skip header line\\n    for i, row in enumerate(reader):\\n        if i >= 6000:\\n            break\\n        smiles = row[0].strip()\\n        try:\\n            smiles_list.append(smiles)\\n        except:\\n            continue\\n\\n# make instance of autoencoder model\\ninference_model = InferenceModel(model_dir=\"cddd/data/default_model\")\\n\\n# embed the smiles\\n# get 512-dim CDDD embeddings\\nsmiles_embedding = inference_model.seq_to_emb(smiles_list)\\n\\n\\n# print example to see if it works\\nfor i in range(5):\\n    print(f\"SMILES: {smiles_list[i]}\") # full smiles\\n    print(f\"Embedding: {smiles_embedding[i][:10]}...\\n\")  # print first 10 values of the embedding\\n\\n'"
      ]
     },
     "execution_count": 5,
     "metadata": {},
     "output_type": "execute_result"
    }
   ],
   "source": [
    "'''\n",
    "# create a smiles list of 6000\n",
    "smiles_list = []\n",
    "\n",
    "with open(\"computed_spectra.csv\", \"r\") as f:\n",
    "    reader = csv.reader(f)\n",
    "    next(reader)  # skip header line\n",
    "    for i, row in enumerate(reader):\n",
    "        if i >= 6000:\n",
    "            break\n",
    "        smiles = row[0].strip()\n",
    "        try:\n",
    "            smiles_list.append(smiles)\n",
    "        except:\n",
    "            continue\n",
    "\n",
    "# make instance of autoencoder model\n",
    "inference_model = InferenceModel(model_dir=\"cddd/data/default_model\")\n",
    "\n",
    "# embed the smiles\n",
    "# get 512-dim CDDD embeddings\n",
    "smiles_embedding = inference_model.seq_to_emb(smiles_list)\n",
    "\n",
    "\n",
    "# print example to see if it works\n",
    "for i in range(5):\n",
    "    print(f\"SMILES: {smiles_list[i]}\") # full smiles\n",
    "    print(f\"Embedding: {smiles_embedding[i][:10]}...\\n\")  # print first 10 values of the embedding\n",
    "\n",
    "'''"
   ]
  },
  {
   "cell_type": "markdown",
   "metadata": {},
   "source": [
    "# Normalize Spectra "
   ]
  },
  {
   "cell_type": "code",
   "execution_count": null,
   "metadata": {},
   "outputs": [
    {
     "name": "stdout",
     "output_type": "stream",
     "text": [
      "Normalized spectra shape: (85506, 1801)\n",
      "Sample normalized spectrum: [0.0086403  0.00853724 0.00871799 0.00868892 0.00868103 0.00868275\n",
      " 0.00859874 0.00842945 0.00839367 0.00825264]\n"
     ]
    }
   ],
   "source": [
    "import numpy as np\n",
    "import csv\n",
    "from sklearn.preprocessing import MinMaxScaler\n",
    "\n",
    "spec_len = 1801\n",
    "spectra_list = []\n",
    "\n",
    "# Load spectra from CSV\n",
    "with open(\"computed_spectra.csv\", \"r\") as f:\n",
    "    reader = csv.reader(f)\n",
    "    next(reader)  # skip header\n",
    "    for i, row in enumerate(reader):\n",
    "        #if i >= 6000:\n",
    "            #break\n",
    "        try:\n",
    "            spectrum = [float(x) for x in row[1:]]\n",
    "            if len(spectrum) == spec_len:\n",
    "                spectra_list.append(spectrum)\n",
    "        except:\n",
    "            continue\n",
    "\n",
    "# convert to np array\n",
    "spectra_array = np.array(spectra_list)\n",
    "\n",
    "# normalize using minmax scaling\n",
    "scaler = MinMaxScaler()\n",
    "normalized_spectra = scaler.fit_transform(spectra_array)\n",
    "\n",
    "# the input for the model\n",
    "X = normalized_spectra\n",
    "\n",
    "# check if it worked :)))\n",
    "print(\"Normalized spectra shape:\", X.shape)\n",
    "print(\"Sample normalized spectrum:\", X[0][:10])\n"
   ]
  },
  {
   "cell_type": "code",
   "execution_count": null,
   "metadata": {},
   "outputs": [],
   "source": []
  },
  {
   "cell_type": "markdown",
   "metadata": {},
   "source": [
    "# Train/Test Split "
   ]
  },
  {
   "cell_type": "code",
   "execution_count": null,
   "metadata": {},
   "outputs": [
    {
     "name": "stdout",
     "output_type": "stream",
     "text": [
      " shape: (85506, 1801), Y shape: (85506, 512)\n",
      "Train size: 59854 Test size: 12826 Val size: 12826\n"
     ]
    }
   ],
   "source": [
    "from sklearn.model_selection import train_test_split\n",
    "\n",
    "# set up X and Y\n",
    "X = np.array(normalized_spectra)\n",
    "Y = np.array(embedded_smiles)\n",
    "\n",
    "# fit to right length\n",
    "min_len = min(len(X), len(Y))\n",
    "X = X[:min_len]\n",
    "Y = Y[:min_len]\n",
    "\n",
    "# debug rqqq\n",
    "print(f\" shape: {X.shape}, Y shape: {Y.shape}\")\n",
    "\n",
    "\n",
    "# train and temp split (val+test)\n",
    "X_train, X_temp, Y_train, Y_temp, smiles_train, smiles_temp = train_test_split(X, Y, smiles_list, test_size=0.3, random_state=42)\n",
    "\n",
    "# temp split into test and val\n",
    "X_val, X_test, Y_val, Y_test, smiles_val, smiles_test = train_test_split(\n",
    "    X_temp, Y_temp, smiles_temp, test_size=0.5, random_state=42\n",
    ")\n",
    "\n",
    "print(\"Train size:\", len(X_train), \"Test size:\", len(X_test), \"Val size:\", len(X_val))\n"
   ]
  },
  {
   "cell_type": "markdown",
   "metadata": {},
   "source": [
    "# Dataset and Dataloaders"
   ]
  },
  {
   "cell_type": "code",
   "execution_count": null,
   "metadata": {},
   "outputs": [],
   "source": [
    "import torch\n",
    "from torch.utils.data import Dataset, DataLoader\n",
    "\n",
    "class SpectraToSMILESDataset(Dataset):\n",
    "    def __init__(self, X, Y):\n",
    "        self.X = torch.tensor(X, dtype=torch.float32)\n",
    "        self.Y = torch.tensor(Y, dtype=torch.float32)\n",
    "\n",
    "    def __len__(self):\n",
    "        return len(self.X)\n",
    "\n",
    "    def __getitem__(self, idx):\n",
    "        return self.X[idx], self.Y[idx]\n",
    "\n",
    "# wrap train/test sets\n",
    "train_dataset = SpectraToSMILESDataset(X_train, Y_train)\n",
    "test_dataset = SpectraToSMILESDataset(X_test, Y_test)\n",
    "val_dataset = SpectraToSMILESDataset(X_val, Y_val)\n",
    "\n",
    "# loaders\n",
    "train_loader = DataLoader(train_dataset, batch_size=64, shuffle=True)\n",
    "test_loader = DataLoader(test_dataset, batch_size=64)\n",
    "val_loader = DataLoader(val_dataset, batch_size=64)\n",
    "\n"
   ]
  },
  {
   "cell_type": "markdown",
   "metadata": {},
   "source": [
    "# Model"
   ]
  },
  {
   "cell_type": "code",
   "execution_count": null,
   "metadata": {},
   "outputs": [],
   "source": [
    "import torch.nn as nn\n",
    "\n",
    "class SpectraToEmbedding(nn.Module):\n",
    "    def __init__(self, input_dim=1801, output_dim=512, hidden_dim=1024):\n",
    "        super().__init__()\n",
    "        self.model = nn.Sequential(\n",
    "            nn.Linear(input_dim, hidden_dim),\n",
    "            nn.ReLU(),\n",
    "            nn.BatchNorm1d(hidden_dim),\n",
    "\n",
    "            nn.Linear(hidden_dim, hidden_dim),\n",
    "            nn.ReLU(),\n",
    "            nn.Dropout(0.3),\n",
    "\n",
    "            nn.Linear(hidden_dim, hidden_dim),\n",
    "            nn.ReLU(),\n",
    "            nn.BatchNorm1d(hidden_dim),\n",
    "\n",
    "            nn.Linear(hidden_dim, output_dim)\n",
    "        )\n",
    "\n",
    "    def forward(self, x):\n",
    "        return self.model(x)\n",
    "\n",
    "model = SpectraToEmbedding()\n"
   ]
  },
  {
   "cell_type": "markdown",
   "metadata": {},
   "source": [
    "# Train 2nd Model"
   ]
  },
  {
   "cell_type": "code",
   "execution_count": null,
   "metadata": {},
   "outputs": [
    {
     "data": {
      "text/plain": [
       "'\\nimport torch\\nimport torch.nn.functional as F\\n\\n# Optimizer\\noptimizer = torch.optim.Adam(model.parameters(), lr=1e-3)\\n\\n# Scheduler (optional but helpful for long training)\\nscheduler = torch.optim.lr_scheduler.ReduceLROnPlateau(optimizer, factor=0.5, patience=5, verbose=True)\\n\\ntest_losses = []\\ntrain_losses = []\\n# Hybrid loss function (MSE + Cosine)\\ndef hybrid_loss(y_pred, y_true):\\n    mse = F.mse_loss(y_pred, y_true)\\n    cos = 1 - F.cosine_similarity(y_pred, y_true, dim=1).mean()\\n    return 0.5 * mse + 0.5 * cos\\n\\n# Training loop\\nnum_epochs = 200\\nfor epoch in range(num_epochs):\\n    model.train()\\n    total_loss = 0\\n    for X_batch, Y_batch in train_loader:\\n        X_batch, Y_batch = X_batch.to(device), Y_batch.to(device)\\n        optimizer.zero_grad()\\n        Y_pred = model(X_batch)\\n\\n        loss = hybrid_loss(Y_pred, Y_batch)\\n\\n        loss.backward()\\n        optimizer.step()\\n        total_loss += loss.item()\\n\\n    train_losses.append(total_loss)\\n\\n    avg_loss = total_loss / len(train_loader)\\n    scheduler.step(avg_loss)\\n    #print(f\"Epoch {epoch+1}/{num_epochs}, Loss: {avg_loss:.4f}\")\\n\\n    model.eval()\\n    test_loss = 0\\n    with torch.no_grad():\\n        for X_batch, Y_batch in test_loader:\\n            X_batch, Y_batch = X_batch.to(device), Y_batch.to(device)\\n            Y_pred = model(X_batch)\\n            test_loss += hybrid_loss(Y_pred, Y_batch)\\n\\n    test_losses.append(test_loss)\\n\\n    print(f\"Epoch {epoch+1}/{num_epochs}, Train Loss = {total_loss:.4f}, Test Loss = {test_loss:.4f}\")\\n    #print(f\"Epoch {epoch+1}/{num_epochs}, Loss: {avg_loss:.4f}\")\\n\\n'"
      ]
     },
     "execution_count": 10,
     "metadata": {},
     "output_type": "execute_result"
    }
   ],
   "source": [
    "'''\n",
    "import torch\n",
    "import torch.nn.functional as F\n",
    "\n",
    "# Optimizer\n",
    "optimizer = torch.optim.Adam(model.parameters(), lr=1e-3)\n",
    "\n",
    "# Scheduler (optional but helpful for long training)\n",
    "scheduler = torch.optim.lr_scheduler.ReduceLROnPlateau(optimizer, factor=0.5, patience=5, verbose=True)\n",
    "\n",
    "test_losses = []\n",
    "train_losses = []\n",
    "# Hybrid loss function (MSE + Cosine)\n",
    "def hybrid_loss(y_pred, y_true):\n",
    "    mse = F.mse_loss(y_pred, y_true)\n",
    "    cos = 1 - F.cosine_similarity(y_pred, y_true, dim=1).mean()\n",
    "    return 0.5 * mse + 0.5 * cos\n",
    "\n",
    "# Training loop\n",
    "num_epochs = 200\n",
    "for epoch in range(num_epochs):\n",
    "    model.train()\n",
    "    total_loss = 0\n",
    "    for X_batch, Y_batch in train_loader:\n",
    "        X_batch, Y_batch = X_batch.to(device), Y_batch.to(device)\n",
    "        optimizer.zero_grad()\n",
    "        Y_pred = model(X_batch)\n",
    "\n",
    "        loss = hybrid_loss(Y_pred, Y_batch)\n",
    "\n",
    "        loss.backward()\n",
    "        optimizer.step()\n",
    "        total_loss += loss.item()\n",
    "\n",
    "    train_losses.append(total_loss)\n",
    "\n",
    "    avg_loss = total_loss / len(train_loader)\n",
    "    scheduler.step(avg_loss)\n",
    "    #print(f\"Epoch {epoch+1}/{num_epochs}, Loss: {avg_loss:.4f}\")\n",
    "\n",
    "    model.eval()\n",
    "    test_loss = 0\n",
    "    with torch.no_grad():\n",
    "        for X_batch, Y_batch in test_loader:\n",
    "            X_batch, Y_batch = X_batch.to(device), Y_batch.to(device)\n",
    "            Y_pred = model(X_batch)\n",
    "            test_loss += hybrid_loss(Y_pred, Y_batch)\n",
    "\n",
    "    test_losses.append(test_loss)\n",
    "\n",
    "    print(f\"Epoch {epoch+1}/{num_epochs}, Train Loss = {total_loss:.4f}, Test Loss = {test_loss:.4f}\")\n",
    "    #print(f\"Epoch {epoch+1}/{num_epochs}, Loss: {avg_loss:.4f}\")\n",
    "\n",
    "'''"
   ]
  },
  {
   "cell_type": "markdown",
   "metadata": {},
   "source": [
    "# Train za Model"
   ]
  },
  {
   "cell_type": "code",
   "execution_count": null,
   "metadata": {},
   "outputs": [
    {
     "name": "stdout",
     "output_type": "stream",
     "text": [
      "Epoch 1/200, Train Loss = 322.4152, Val Loss = 60.2390\n",
      "Epoch 2/200, Train Loss = 281.6196, Val Loss = 57.2055\n",
      "Epoch 3/200, Train Loss = 267.7411, Val Loss = 56.2496\n",
      "Epoch 4/200, Train Loss = 259.7954, Val Loss = 53.6468\n",
      "Epoch 5/200, Train Loss = 254.2832, Val Loss = 52.8165\n",
      "Epoch 6/200, Train Loss = 250.1929, Val Loss = 51.3286\n",
      "Epoch 7/200, Train Loss = 245.6813, Val Loss = 51.2621\n",
      "Epoch 8/200, Train Loss = 243.9825, Val Loss = 50.2648\n",
      "Epoch 9/200, Train Loss = 239.6026, Val Loss = 52.3064\n",
      "Epoch 10/200, Train Loss = 237.0218, Val Loss = 50.2293\n",
      "Epoch 11/200, Train Loss = 234.4197, Val Loss = 48.9331\n",
      "Epoch 12/200, Train Loss = 232.6609, Val Loss = 49.6252\n",
      "Epoch 13/200, Train Loss = 230.6438, Val Loss = 49.0860\n",
      "Epoch 14/200, Train Loss = 230.8674, Val Loss = 48.2214\n",
      "Epoch 15/200, Train Loss = 228.3494, Val Loss = 47.8061\n",
      "Epoch 16/200, Train Loss = 226.7407, Val Loss = 48.1022\n",
      "Epoch 17/200, Train Loss = 225.6775, Val Loss = 47.8462\n",
      "Epoch 18/200, Train Loss = 223.5014, Val Loss = 47.2364\n",
      "Epoch 19/200, Train Loss = 224.7132, Val Loss = 46.9889\n",
      "Epoch 20/200, Train Loss = 222.2152, Val Loss = 49.0346\n",
      "Epoch 21/200, Train Loss = 221.5391, Val Loss = 46.8523\n",
      "Epoch 22/200, Train Loss = 220.2293, Val Loss = 46.8357\n",
      "Epoch 23/200, Train Loss = 220.9144, Val Loss = 47.0401\n",
      "Epoch 24/200, Train Loss = 218.0867, Val Loss = 48.0335\n",
      "Epoch 25/200, Train Loss = 217.7958, Val Loss = 47.2794\n",
      "Epoch 26/200, Train Loss = 217.5230, Val Loss = 46.7020\n",
      "Epoch 27/200, Train Loss = 221.7311, Val Loss = 48.9688\n",
      "Epoch 28/200, Train Loss = 215.7687, Val Loss = 46.3606\n",
      "Epoch 29/200, Train Loss = 216.4421, Val Loss = 46.4160\n",
      "Epoch 30/200, Train Loss = 214.8349, Val Loss = 46.1640\n",
      "Epoch 31/200, Train Loss = 215.2940, Val Loss = 46.0136\n",
      "Epoch 32/200, Train Loss = 214.4588, Val Loss = 46.0849\n",
      "Epoch 33/200, Train Loss = 212.6382, Val Loss = 47.2001\n",
      "Epoch 34/200, Train Loss = 212.4633, Val Loss = 46.1607\n",
      "Epoch 35/200, Train Loss = 212.3121, Val Loss = 46.2087\n",
      "Epoch 36/200, Train Loss = 211.8818, Val Loss = 46.9028\n",
      "Epoch 37/200, Train Loss = 211.9418, Val Loss = 45.8326\n",
      "Epoch 38/200, Train Loss = 210.9921, Val Loss = 45.7446\n",
      "Epoch 39/200, Train Loss = 210.4288, Val Loss = 45.8640\n",
      "Epoch 40/200, Train Loss = 208.6395, Val Loss = 45.7608\n",
      "Epoch 41/200, Train Loss = 208.7334, Val Loss = 45.6120\n",
      "Epoch 42/200, Train Loss = 209.4591, Val Loss = 46.7907\n",
      "Epoch 43/200, Train Loss = 210.4526, Val Loss = 45.6917\n",
      "Epoch 44/200, Train Loss = 208.7539, Val Loss = 45.4436\n",
      "Epoch 45/200, Train Loss = 210.4491, Val Loss = 45.7771\n",
      "Epoch 46/200, Train Loss = 207.5761, Val Loss = 45.1822\n",
      "Epoch 47/200, Train Loss = 208.8399, Val Loss = 45.2958\n",
      "Epoch 48/200, Train Loss = 208.4271, Val Loss = 48.0108\n",
      "Epoch 49/200, Train Loss = 208.7723, Val Loss = 45.3327\n",
      "Epoch 50/200, Train Loss = 207.1527, Val Loss = 45.2229\n",
      "Epoch 51/200, Train Loss = 206.4030, Val Loss = 45.6303\n",
      "Epoch    52: reducing learning rate of group 0 to 5.0000e-04.\n",
      "Epoch 52/200, Train Loss = 205.5779, Val Loss = 45.4048\n",
      "Epoch 53/200, Train Loss = 202.8801, Val Loss = 44.7682\n",
      "Epoch 54/200, Train Loss = 201.2418, Val Loss = 44.6261\n",
      "Epoch 55/200, Train Loss = 201.6825, Val Loss = 44.6668\n",
      "Epoch 56/200, Train Loss = 200.7083, Val Loss = 44.5992\n",
      "Epoch 57/200, Train Loss = 199.8471, Val Loss = 44.6792\n",
      "Epoch 58/200, Train Loss = 199.2146, Val Loss = 44.8944\n",
      "Epoch 59/200, Train Loss = 198.7690, Val Loss = 44.9892\n",
      "Epoch 60/200, Train Loss = 199.3761, Val Loss = 44.4832\n",
      "Epoch 61/200, Train Loss = 198.9487, Val Loss = 44.7505\n",
      "Epoch 62/200, Train Loss = 198.3313, Val Loss = 44.5574\n",
      "Epoch 63/200, Train Loss = 198.2532, Val Loss = 45.6534\n",
      "Epoch 64/200, Train Loss = 198.2174, Val Loss = 44.4879\n",
      "Epoch 65/200, Train Loss = 197.9393, Val Loss = 45.1742\n",
      "Epoch    66: reducing learning rate of group 0 to 2.5000e-04.\n",
      "Epoch 66/200, Train Loss = 198.1465, Val Loss = 46.1367\n",
      "Epoch 67/200, Train Loss = 195.8514, Val Loss = 44.3884\n",
      "Epoch 68/200, Train Loss = 195.2900, Val Loss = 44.0983\n",
      "Epoch 69/200, Train Loss = 195.0477, Val Loss = 44.2857\n",
      "Epoch 70/200, Train Loss = 194.7094, Val Loss = 44.1502\n",
      "Epoch 71/200, Train Loss = 194.6746, Val Loss = 43.8848\n",
      "Epoch 72/200, Train Loss = 194.0693, Val Loss = 44.0407\n",
      "Epoch 73/200, Train Loss = 194.6127, Val Loss = 44.1199\n",
      "Epoch 74/200, Train Loss = 193.9829, Val Loss = 44.1370\n",
      "Epoch 75/200, Train Loss = 193.7641, Val Loss = 44.0628\n",
      "Epoch 76/200, Train Loss = 193.7588, Val Loss = 44.2485\n",
      "Epoch    77: reducing learning rate of group 0 to 1.2500e-04.\n",
      "Epoch 77/200, Train Loss = 193.5111, Val Loss = 44.5289\n",
      "Epoch 78/200, Train Loss = 192.7155, Val Loss = 43.9948\n",
      "Epoch 79/200, Train Loss = 192.5894, Val Loss = 44.1038\n",
      "Epoch 80/200, Train Loss = 192.2862, Val Loss = 43.9355\n",
      "Epoch 81/200, Train Loss = 192.1569, Val Loss = 44.2354\n",
      "Early stopping triggered at epoch 81\n",
      "Best model restored.\n"
     ]
    }
   ],
   "source": [
    "# optimizer\n",
    "optimizer = torch.optim.Adam(model.parameters(), lr=1e-3)\n",
    "\n",
    "# scheduler: reduce LR by factor=0.5 if no improvement in 5 epochs\n",
    "scheduler = torch.optim.lr_scheduler.ReduceLROnPlateau(optimizer, mode='min', factor=0.5, patience=5, verbose=True)\n",
    "\n",
    "# loss function\n",
    "loss_fn = nn.CosineEmbeddingLoss()\n",
    "\n",
    "# to track losses\n",
    "train_losses = []\n",
    "test_losses = []\n",
    "val_losses = []\n",
    "\n",
    "\n",
    "# early stopping params\n",
    "best_loss = float('inf')\n",
    "patience = 10\n",
    "wait = 0\n",
    "best_model_state = None\n",
    "\n",
    "# Training loop\n",
    "num_epochs = 200\n",
    "for epoch in range(num_epochs):\n",
    "    model.train()\n",
    "    train_loss = 0\n",
    "\n",
    "    for X_batch, Y_batch in train_loader:\n",
    "        optimizer.zero_grad()\n",
    "        Y_pred = model(X_batch)\n",
    "\n",
    "        target = torch.ones(X_batch.size(0)).to(X_batch.device)\n",
    "        loss = loss_fn(Y_pred, Y_batch, target)\n",
    "\n",
    "        loss.backward()\n",
    "        optimizer.step()\n",
    "        train_loss += loss.item()\n",
    "\n",
    "    train_losses.append(train_loss)\n",
    "\n",
    "    # validation\n",
    "    model.eval()\n",
    "    val_loss = 0\n",
    "    with torch.no_grad():\n",
    "        for X_batch, Y_batch in val_loader:\n",
    "            Y_pred = model(X_batch)\n",
    "            target = torch.ones(X_batch.size(0)).to(X_batch.device)\n",
    "            val_loss += loss_fn(Y_pred, Y_batch, target).item()\n",
    "\n",
    "    val_losses.append(val_loss)\n",
    "\n",
    "    scheduler.step(val_loss)\n",
    "\n",
    "    print(f\"Epoch {epoch+1}/{num_epochs}, Train Loss = {train_loss:.4f}, Val Loss = {val_loss:.4f}\")\n",
    "\n",
    "    # Early stopping check\n",
    "    if val_loss < best_loss - 1e-4:\n",
    "        best_loss = val_loss\n",
    "        wait = 0\n",
    "        best_model_state = model.state_dict()\n",
    "    else:\n",
    "        wait += 1\n",
    "        if wait >= patience:\n",
    "            print(f\"Early stopping triggered at epoch {epoch+1}\")\n",
    "            break\n",
    "\n",
    "# Load best model\n",
    "if best_model_state is not None:\n",
    "    model.load_state_dict(best_model_state)\n",
    "    print(\"Best model restored.\")\n",
    "\n",
    "\n"
   ]
  },
  {
   "cell_type": "code",
   "execution_count": null,
   "metadata": {},
   "outputs": [
    {
     "data": {
      "image/png": "[encoded data removed]",
      "text/plain": [
       "<Figure size 720x288 with 1 Axes>"
      ]
     },
     "metadata": {
      "needs_background": "light"
     },
     "output_type": "display_data"
    }
   ],
   "source": [
    "# plot loss graph\n",
    "plt.figure(figsize=(10, 4))\n",
    "plt.plot(train_losses, label=\"Train Loss\")\n",
    "plt.plot(test_losses, label=\"Test Loss\")\n",
    "plt.xlabel(\"Epoch\")\n",
    "plt.ylabel(\"Loss\")\n",
    "plt.title(\"Training vs Test Loss\")\n",
    "plt.legend()\n",
    "plt.show()"
   ]
  },
  {
   "cell_type": "markdown",
   "metadata": {},
   "source": [
    "# Eval"
   ]
  },
  {
   "cell_type": "code",
   "execution_count": null,
   "metadata": {},
   "outputs": [
    {
     "ename": "AttributeError",
     "evalue": "'int' object has no attribute 'to'",
     "output_type": "error",
     "traceback": [
      "\u001b[0;31m---------------------------------------------------------------------------\u001b[0m",
      "\u001b[0;31mAttributeError\u001b[0m                            Traceback (most recent call last)",
      "\u001b[0;32m<ipython-input-13-3c25949ce717>\u001b[0m in \u001b[0;36m<module>\u001b[0;34m\u001b[0m\n\u001b[1;32m     12\u001b[0m     \u001b[0;32mfor\u001b[0m \u001b[0mX_batch\u001b[0m\u001b[0;34m,\u001b[0m \u001b[0m_\u001b[0m \u001b[0;32min\u001b[0m \u001b[0mtest_loader\u001b[0m\u001b[0;34m:\u001b[0m\u001b[0;34m\u001b[0m\u001b[0;34m\u001b[0m\u001b[0m\n\u001b[1;32m     13\u001b[0m         \u001b[0mpred\u001b[0m \u001b[0;34m=\u001b[0m \u001b[0mmodel\u001b[0m\u001b[0;34m(\u001b[0m\u001b[0mX_batch\u001b[0m\u001b[0;34m)\u001b[0m\u001b[0;34m\u001b[0m\u001b[0;34m\u001b[0m\u001b[0m\n\u001b[0;32m---> 14\u001b[0;31m         \u001b[0mtarget\u001b[0m \u001b[0;34m=\u001b[0m \u001b[0mtorch\u001b[0m\u001b[0;34m.\u001b[0m\u001b[0mones\u001b[0m\u001b[0;34m(\u001b[0m\u001b[0mX_batch\u001b[0m\u001b[0;34m.\u001b[0m\u001b[0msize\u001b[0m\u001b[0;34m(\u001b[0m\u001b[0;36m0\u001b[0m\u001b[0;34m)\u001b[0m\u001b[0;34m.\u001b[0m\u001b[0mto\u001b[0m\u001b[0;34m(\u001b[0m\u001b[0mX_batch\u001b[0m\u001b[0;34m.\u001b[0m\u001b[0mdevice\u001b[0m\u001b[0;34m)\u001b[0m\u001b[0;34m)\u001b[0m\u001b[0;34m\u001b[0m\u001b[0;34m\u001b[0m\u001b[0m\n\u001b[0m\u001b[1;32m     15\u001b[0m         \u001b[0mtest_loss\u001b[0m \u001b[0;34m+=\u001b[0m \u001b[0mloss_fn\u001b[0m\u001b[0;34m(\u001b[0m\u001b[0mpred\u001b[0m\u001b[0;34m,\u001b[0m \u001b[0mY_batch\u001b[0m\u001b[0;34m,\u001b[0m \u001b[0mtarget\u001b[0m\u001b[0;34m)\u001b[0m\u001b[0;34m.\u001b[0m\u001b[0mitem\u001b[0m\u001b[0;34m(\u001b[0m\u001b[0;34m)\u001b[0m\u001b[0;34m\u001b[0m\u001b[0;34m\u001b[0m\u001b[0m\n\u001b[1;32m     16\u001b[0m         \u001b[0mpredicted_embeddings\u001b[0m\u001b[0;34m.\u001b[0m\u001b[0mappend\u001b[0m\u001b[0;34m(\u001b[0m\u001b[0mpred\u001b[0m\u001b[0;34m)\u001b[0m\u001b[0;34m\u001b[0m\u001b[0;34m\u001b[0m\u001b[0m\n",
      "\u001b[0;31mAttributeError\u001b[0m: 'int' object has no attribute 'to'"
     ]
    }
   ],
   "source": [
    "# remove any warnings\n",
    "from rdkit import RDLogger\n",
    "RDLogger.DisableLog('rdApp.*')\n",
    "\n",
    "# eval\n",
    "model.eval()\n",
    "predicted_embeddings = []\n",
    "test_loss = 0\n",
    "\n",
    "# pred embeddings from test spectra\n",
    "with torch.no_grad():\n",
    "    for X_batch, _ in test_loader:\n",
    "        pred = model(X_batch)\n",
    "        target = torch.ones(X_batch.size(0)).to(X_batch.device)\n",
    "        test_loss += loss_fn(pred, Y_batch, target).item()\n",
    "        predicted_embeddings.append(pred)\n",
    "\n",
    "print(f\"Final Test Loss: {test_loss:.4f}\")\n"
   ]
  },
  {
   "cell_type": "code",
   "execution_count": null,
   "metadata": {},
   "outputs": [],
   "source": [
    "# plot loss graph\n",
    "plt.figure(figsize=(10, 4))\n",
    "plt.plot(train_losses, label=\"Train Loss\")\n",
    "plt.plot(test_losses, label=\"Test Loss\")\n",
    "plt.xlabel(\"Epoch\")\n",
    "plt.ylabel(\"Loss\")\n",
    "plt.title(\"Training vs Test Loss\")\n",
    "plt.legend()\n",
    "plt.show()"
   ]
  },
  {
   "cell_type": "code",
   "execution_count": null,
   "metadata": {},
   "outputs": [],
   "source": [
    "predicted_embeddings = torch.cat(predicted_embeddings, dim=0).cpu().numpy()\n",
    "\n",
    "# decode embeddings\n",
    "print(len(predicted_embeddings))\n",
    "\n",
    "pred_smiles = inference_model.emb_to_seq(predicted_embeddings)\n",
    "\n",
    "print(\"Finished decoding predictions\")\n",
    "\n",
    "# eval metrics\n",
    "tanimoto_scores = []\n",
    "valid_count = 0\n",
    "exact_match_count = 0\n",
    "total = len(smiles_test)\n",
    "\n",
    "for pred, true in zip(pred_smiles, smiles_test):\n",
    "    try:\n",
    "        pred_mol = Chem.MolFromSmiles(pred)\n",
    "        true_mol = Chem.MolFromSmiles(true)\n",
    "        \n",
    "        # validity check\n",
    "        if pred_mol is not None:\n",
    "            valid_count += 1\n",
    "\n",
    "        # exact match?\n",
    "        if pred == true:\n",
    "            exact_match_count += 1\n",
    "\n",
    "        # tanimoto sim\n",
    "        if pred_mol is not None and true_mol is not None:\n",
    "            fp_pred = AllChem.GetMorganFingerprintAsBitVect(pred_mol, 2, nBits=2048)\n",
    "            fp_true = AllChem.GetMorganFingerprintAsBitVect(true_mol, 2, nBits=2048)\n",
    "            similarity = DataStructs.TanimotoSimilarity(fp_pred, fp_true)\n",
    "            tanimoto_scores.append(similarity)\n",
    "        else:\n",
    "            tanimoto_scores.append(0.0)\n",
    "    except:\n",
    "        tanimoto_scores.append(0.0)\n",
    "\n",
    "# print final metrics\n",
    "valid_percent = 100 * valid_count / total\n",
    "exact_match_percent = 100 * exact_match_count / total\n",
    "avg_tanimoto = np.mean(tanimoto_scores)\n",
    "\n",
    "print(f\"Average Tanimoto Similarity: {avg_tanimoto:.4f}\")\n",
    "print(f\"Valid SMILES: {valid_count}/{total} ({valid_percent:.2f}%)\")\n",
    "print(f\"Exact Matches: {exact_match_count}/{total} ({exact_match_percent:.2f}%)\")"
   ]
  },
  {
   "cell_type": "code",
   "execution_count": null,
   "metadata": {},
   "outputs": [],
   "source": [
    "# create a DataFrame\n",
    "df = pd.DataFrame({\n",
    "    \"True_SMILES\": smiles_test,\n",
    "    \"Predicted_SMILES\": pred_smiles\n",
    "})\n",
    "\n",
    "# save to CSV\n",
    "df.to_csv(\"smiles_predictions.csv\", index=False)"
   ]
  }
 ],
 "metadata": {
  "kernelspec": {
   "display_name": "Python 3",
   "language": "python",
   "name": "python3"
  }
 },
 "nbformat": 4,
 "nbformat_minor": 2
}
